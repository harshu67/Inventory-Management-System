{
 "cells": [
  {
   "cell_type": "code",
   "execution_count": null,
   "id": "d4aafbed",
   "metadata": {},
   "outputs": [],
   "source": [
    "import json\n",
    "fd = open(\"record.json\",'r')\n",
    "r = fd.read()\n",
    "fd.close()\n",
    "\n",
    "record = json.loads(r)"
   ]
  },
  {
   "cell_type": "code",
   "execution_count": null,
   "id": "a8ddd505",
   "metadata": {},
   "outputs": [],
   "source": [
    "record={}"
   ]
  },
  {
   "cell_type": "code",
   "execution_count": 68,
   "id": "3befa450",
   "metadata": {},
   "outputs": [
    {
     "name": "stdout",
     "output_type": "stream",
     "text": [
      "Enter product id:1030\n",
      "Enter product name:Little Shop of Hampsters\n",
      "Enter product price:500\n",
      "Enter product quantity:890\n"
     ]
    }
   ],
   "source": [
    "prod_id = str(input(\"Enter product id:\"))\n",
    "name = str(input(\"Enter product name:\"))\n",
    "pr = int(input(\"Enter product price:\"))\n",
    "qn = int(input(\"Enter product quantity:\"))\n",
    "record[prod_id] = {'name':name, 'pr':pr, 'qn':qn}\n",
    "\n",
    "\n",
    "    \n"
   ]
  },
  {
   "cell_type": "code",
   "execution_count": 5,
   "id": "6504e9a2",
   "metadata": {},
   "outputs": [
    {
     "name": "stdout",
     "output_type": "stream",
     "text": [
      "Enter product id:1001\n",
      "Enter name:Harry Potter Book Set\n",
      "Enter price:1500\n",
      "Enter quantity:500\n"
     ]
    }
   ],
   "source": [
    "# for key in record.keys():\n",
    "#     for value in record.values():\n",
    "prod_idd = str(input(\"Enter product id:\"))\n",
    "name = str(input(\"Enter name:\"))\n",
    "pr = int(input(\"Enter price:\"))\n",
    "qnn = int(input(\"Enter quantity:\"))\n",
    "# record[prod_idd] = {'name': name, 'pr': pr, 'qnn': qn}\n",
    "for key in record.keys():\n",
    "  for value in record.values():\n",
    "    if prod_id == prod_idd:\n",
    "      qn = qn + qnn\n",
    "      record[prod_idd] = {'name': name, 'pr': pr, 'qnn': qn}\n",
    "    else:\n",
    "      record[prod_idd] = {'name': name, 'pr': pr, 'qnn': qnn}"
   ]
  },
  {
   "cell_type": "code",
   "execution_count": 69,
   "id": "2fe3ec0a",
   "metadata": {},
   "outputs": [],
   "source": [
    "js = json.dumps(record)\n",
    "\n",
    "fd = open(\"record.json\",'w')\n",
    "fd.write(js)\n",
    "fd.close()"
   ]
  },
  {
   "cell_type": "code",
   "execution_count": 70,
   "id": "72b463ec",
   "metadata": {},
   "outputs": [
    {
     "data": {
      "text/plain": [
       "{'1001': {'name': 'Harry Potter Book Set', 'pr': 1500, 'qnn': 1000},\n",
       " '1002': {'name': 'Two States', 'pr': 280, 'qn': 1000},\n",
       " '1003': {'name': 'Immortals of Meluha', 'pr': 350, 'qn': 1999},\n",
       " '1004': {'name': 'Revolution 2020', 'pr': 180, 'qn': 300},\n",
       " '1005': {'name': 'Secrets of Nagas', 'pr': 400, 'qn': 500},\n",
       " '1006': {'name': 'Immortal India', 'pr': 200, 'qn': 600},\n",
       " '1007': {'name': 'Deja Dead', 'pr': 600, 'qn': 200},\n",
       " '1008': {'name': 'Weird Halloween', 'pr': 250, 'qn': 150},\n",
       " '1009': {'name': 'One Indian Girl', 'pr': 145, 'qn': 123},\n",
       " '1010': {'name': 'Oath of Vayuputra', 'pr': 500, 'qn': 800},\n",
       " '1011': {'name': 'The Palace of Illusions', 'pr': 350, 'qn': 400},\n",
       " '1012': {'name': 'Rodrick Rules', 'pr': 350, 'qn': 500},\n",
       " '1013': {'name': 'Being Mortal', 'pr': 120, 'qn': 456},\n",
       " '1014': {'name': 'Unbreakable', 'pr': 140, 'qn': 450},\n",
       " '1015': {'name': 'The Last Straw', 'pr': 160, 'qn': 200},\n",
       " '1016': {'name': 'Dog Days', 'pr': 400, 'qn': 70},\n",
       " '1017': {'name': 'The Ugly Truth', 'pr': 405, 'qn': 50},\n",
       " '1018': {'name': 'Cabin Fever', 'pr': 120, 'qn': 34},\n",
       " '1019': {'name': 'Half Loved half arranged', 'pr': 450, 'qn': 600},\n",
       " '1020': {'name': 'The Long Haul', 'pr': 399, 'qn': 100},\n",
       " '1021': {'name': 'The Old Man and the Sea', 'pr': 300, 'qn': 457},\n",
       " '1022': {'name': 'Love a little Stronger', 'pr': 149, 'qn': 200},\n",
       " '1023': {'name': 'Hundred Little Flames', 'pr': 350, 'qn': 688},\n",
       " '1024': {'name': 'Streets of Panic Park', 'pr': 234, 'qn': 160},\n",
       " '1025': {'name': 'The Forty Rules of Love', 'pr': 500, 'qn': 200},\n",
       " '1026': {'name': 'Bare Bones', 'pr': 1000, 'qn': 123},\n",
       " '1027': {'name': 'To Kill a Mockingbird', 'pr': 405, 'qn': 127},\n",
       " '1028': {'name': 'Slappy New Year', 'pr': 120, 'qn': 350},\n",
       " '1029': {'name': 'Heads you lose', 'pr': 340, 'qn': 512},\n",
       " '1030': {'name': 'Little Shop of Hampsters', 'pr': 500, 'qn': 890}}"
      ]
     },
     "execution_count": 70,
     "metadata": {},
     "output_type": "execute_result"
    }
   ],
   "source": [
    "record"
   ]
  },
  {
   "cell_type": "code",
   "execution_count": null,
   "id": "acbebe45",
   "metadata": {},
   "outputs": [],
   "source": []
  }
 ],
 "metadata": {
  "kernelspec": {
   "display_name": "Python 3",
   "language": "python",
   "name": "python3"
  },
  "language_info": {
   "codemirror_mode": {
    "name": "ipython",
    "version": 3
   },
   "file_extension": ".py",
   "mimetype": "text/x-python",
   "name": "python",
   "nbconvert_exporter": "python",
   "pygments_lexer": "ipython3",
   "version": "3.8.8"
  }
 },
 "nbformat": 4,
 "nbformat_minor": 5
}
