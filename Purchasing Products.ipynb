{
 "cells": [
  {
   "cell_type": "code",
   "execution_count": 3,
   "id": "b575b6c8",
   "metadata": {},
   "outputs": [],
   "source": [
    "import json\n",
    "import time\n",
    "fd = open(\"record.json\",'r')\n",
    "r = fd.read()\n",
    "fd.close()\n",
    "\n",
    "records = json.loads(r)\n"
   ]
  },
  {
   "cell_type": "code",
   "execution_count": 4,
   "id": "7ef9f0eb",
   "metadata": {
    "scrolled": true
   },
   "outputs": [
    {
     "name": "stdout",
     "output_type": "stream",
     "text": [
      "Enter product id:1002\n",
      "Enter quantity:1\n",
      "Product:  Two States\n",
      "Price:  280\n",
      "Billing Amount:  280\n",
      "Add on product press 1 else press 0 :1\n",
      "Enter product id:1025\n",
      "Enter quantity:1\n",
      "Product:  The Forty Rules of Love\n",
      "Price:  500\n",
      "Billing Amount:  500\n",
      "Add on product press 1 else press 0 :0\n"
     ]
    }
   ],
   "source": [
    "# Purchase products\n",
    "\n",
    "product_list_id=[]\n",
    "quantity_list=[] \n",
    "Bill_list=[]\n",
    "while True:\n",
    "    product_id = str(input(\"Enter product id:\")) \n",
    "    quantity = int(input(\"Enter quantity:\"))\n",
    "    print(\"Product: \", records[product_id]['name'])\n",
    "    print(\"Price: \", records[product_id]['pr'])\n",
    "    print(\"Billing Amount: \", records[product_id]['pr'] *quantity )\n",
    "    if(records[product_id]['qn']>0):\n",
    "        records[product_id]['qn'] = records[product_id]['qn'] - quantity\n",
    "    else:\n",
    "        print(\"product not available\")\n",
    "    product_list_id.append(product_id)\n",
    "    quantity_list.append(quantity)\n",
    "    Bill_list.append(records[product_id]['pr'] *quantity)\n",
    "    user_response= (input(\"Add on product press 1 else press 0 :\"))\n",
    "    if (user_response=='0'):\n",
    "        break\n",
    "\n",
    "    \n",
    "    \n",
    "  "
   ]
  },
  {
   "cell_type": "code",
   "execution_count": 20,
   "id": "163ef757",
   "metadata": {},
   "outputs": [
    {
     "name": "stdout",
     "output_type": "stream",
     "text": [
      "**************************************\n",
      "Product Name | Quantity | Price\n",
      "_____________________________________\n",
      "  1 -> Two States 991    1    280\n",
      "  2 -> The Forty Rules of Love 199    1    500\n",
      "-------------------------------------\n",
      "Your total bill is: 780 ₹\n",
      "Date: Mon Sep  6 13:03:50 2021\n",
      "**************************************\n"
     ]
    }
   ],
   "source": [
    "sum=0\n",
    "\n",
    "for i in range(len(product_list_id)):\n",
    "    if (i==0):\n",
    "        print(\"**************************************\")\n",
    "        print(\"Product Name |\",\"Quantity |\",\"Price\")\n",
    "        print(\"_____________________________________\")\n",
    "    print(\" \",i+1,\"->\",records[product_list_id[i]]['name'],records[product_list_id[i]]['qn'],\"  \",quantity_list[i],\"  \",Bill_list[i])\n",
    "    sum+=Bill_list[i]\n",
    "print(\"-------------------------------------\")\n",
    "print(\"Your total bill is:\",sum,\"₹\")\n",
    "print(\"Date:\",time.ctime())\n",
    "print(\"**************************************\")"
   ]
  },
  {
   "cell_type": "code",
   "execution_count": 7,
   "id": "392bfc67",
   "metadata": {},
   "outputs": [],
   "source": [
    "# Update Inventory after purchase\n",
    "js = json.dumps(records)\n",
    "fd = open(\"record.json\",'w')\n",
    "fd.write(js)\n",
    "fd.close()"
   ]
  },
  {
   "cell_type": "code",
   "execution_count": 15,
   "id": "b2000589",
   "metadata": {},
   "outputs": [
    {
     "name": "stdout",
     "output_type": "stream",
     "text": [
      "current day:enter 0 new day enter 1 :0\n",
      "Current day\n"
     ]
    }
   ],
   "source": [
    "#sales\n",
    "\n",
    "day=[\"Current day\",\"newday\"]\n",
    "if(int(input(\"current day:enter 0 new day enter 1 :\"))==0):\n",
    "    print(day[0])\n",
    "    sales=sales\n",
    "    num_of_sale=num_of_sale\n",
    "else:\n",
    "    print(day[1])\n",
    "    sales={}    #created a empty dictionary per day for know daily data\n",
    "    num_of_sale=0"
   ]
  },
  {
   "cell_type": "code",
   "execution_count": 17,
   "id": "fc618d50",
   "metadata": {},
   "outputs": [
    {
     "name": "stdout",
     "output_type": "stream",
     "text": [
      "number of sale today is: 2\n"
     ]
    }
   ],
   "source": [
    "count=0\n",
    "for i in range(len(product_list_id)):\n",
    "    sales[i+num_of_sale]={'prod_id':product_list_id[i] ,'qn': quantity,'amount':Bill_list[i]}\n",
    "    count+=1\n",
    "num_of_sale+=count\n",
    "print(\"number of sale today is:\",num_of_sale)"
   ]
  },
  {
   "cell_type": "code",
   "execution_count": 18,
   "id": "3b5aed85",
   "metadata": {},
   "outputs": [],
   "source": [
    "sale = json.dumps(sales)\n",
    "\n",
    "fd = open(\"sales.json\",'w')\n",
    "fd.write(sale)\n",
    "fd.close()"
   ]
  },
  {
   "cell_type": "code",
   "execution_count": 19,
   "id": "e3791367",
   "metadata": {},
   "outputs": [
    {
     "data": {
      "text/plain": [
       "{0: {'prod_id': '1002', 'qn': 1, 'amount': 280},\n",
       " 1: {'prod_id': '1025', 'qn': 1, 'amount': 500}}"
      ]
     },
     "execution_count": 19,
     "metadata": {},
     "output_type": "execute_result"
    }
   ],
   "source": [
    "sales"
   ]
  },
  {
   "cell_type": "code",
   "execution_count": null,
   "id": "195c8134",
   "metadata": {},
   "outputs": [],
   "source": []
  }
 ],
 "metadata": {
  "kernelspec": {
   "display_name": "Python 3",
   "language": "python",
   "name": "python3"
  },
  "language_info": {
   "codemirror_mode": {
    "name": "ipython",
    "version": 3
   },
   "file_extension": ".py",
   "mimetype": "text/x-python",
   "name": "python",
   "nbconvert_exporter": "python",
   "pygments_lexer": "ipython3",
   "version": "3.8.8"
  }
 },
 "nbformat": 4,
 "nbformat_minor": 5
}
